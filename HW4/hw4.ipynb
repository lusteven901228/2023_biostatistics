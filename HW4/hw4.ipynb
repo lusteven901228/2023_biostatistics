{
 "cells": [
  {
   "cell_type": "markdown",
   "id": "9830f439",
   "metadata": {},
   "source": [
    "## 生物統計與流行病學 作業四\n",
    "\n",
    "B10401019 呂祐寬\n",
    "\n",
    "#### environment:\n",
    "* Ubuntu 22.04 @ WSL2\n",
    "* R 4.1.2\n",
    "* Jupyter Notebook 4.1.3,"
   ]
  },
  {
   "cell_type": "code",
   "execution_count": 1,
   "id": "1eea9995",
   "metadata": {
    "vscode": {
     "languageId": "r"
    }
   },
   "outputs": [
    {
     "data": {
      "text/html": [
       "'R version 4.1.2 (2021-11-01)'"
      ],
      "text/latex": [
       "'R version 4.1.2 (2021-11-01)'"
      ],
      "text/markdown": [
       "'R version 4.1.2 (2021-11-01)'"
      ],
      "text/plain": [
       "[1] \"R version 4.1.2 (2021-11-01)\""
      ]
     },
     "metadata": {},
     "output_type": "display_data"
    }
   ],
   "source": [
    "R.version.string"
   ]
  },
  {
   "cell_type": "markdown",
   "id": "95c02e2d",
   "metadata": {},
   "source": [
    "比較4組獨立樣本，每組樣本數分別為9, 10, 12,與15，以變異數分析(ANOVA)進行顯著水準α=0.05的雙尾檢定。在此，$μ_1$, $μ_2$, $μ_3$, $μ_4$ 分別為第1,2,3,4組的(群體)平均值，此檢定統計量記為“$F^*$ ”，其觀察值記為“ $F_{obs}$”。 \n",
    "\n",
    "Four groups of independent samples were compared, the number of samples in each group was 9, 10, 12, and 15, respectively, and a two-tailed test with a significance level of α=0.05 was carried out by analysis of variance (ANOVA). Here, $μ_1$, $μ_2$, $μ_3$, $μ_4$ are the (population) mean values of groups 1, 2, 3, and 4 respectively, and this test statistic is marked as \"$F^*$\", and its observed value is marked as \"$F_{obs}$\".\n"
   ]
  },
  {
   "cell_type": "markdown",
   "id": "c72ed3c5",
   "metadata": {},
   "source": [
    "<font color=\"#fcba03\">\n",
    "\n",
    "Q1. (10分)請用給定的數學標記說明ANOVA的虛無與對立假說 <br>\n",
    "Q1. (10 pts) Please use the given notation to explain the null and alternative hypothesis of ANOVA\n",
    "\n",
    "</font>\n",
    "\n",
    "<font color=\"#039dfc\">\n",
    "\n",
    "### Ans: \n",
    "$H_0$: The population means of the four groups are all the same. ($\\mu_1=\\mu_2=\\mu_3=\\mu_4$)<br>\n",
    "$H_1$: The population means of the four groups are not all the same. ($\\exists i, j: (i ≠ j) ∧ (μ_i ≠ μ_j)$, where $i, j ∈ {1, 2, 3, 4}$)\n",
    "\n",
    "</font>\n"
   ]
  },
  {
   "cell_type": "markdown",
   "id": "27c4471f",
   "metadata": {},
   "source": [
    "<font color=\"#fcba03\">\n",
    "\n",
    ". (10分)當虛無假說為真時，$F^*$的(機率)分布的兩個關鍵參數的數值為何? <br>\n",
    ". (10 pts) What are the values of the two key parameters of the (probability) distribution of $F^*$ when the null hypothesis is true?\n",
    "\n",
    "</font>\n",
    "<font color=\"#039dfc\">\n",
    "\n",
    "### Ans: \n",
    "The two parameters of the F distribution in anova are $df_{between}$ and $df_{within}$, which can be calculated as following:\n",
    "$$df_{between} = k - 1 = 4 - 1 = 3 $$\n",
    "$$df_{within} = n - k = (9+10+12+15) - 4 = 42$$\n",
    "\n",
    "</font>"
   ]
  },
  {
   "cell_type": "markdown",
   "id": "209c25e6",
   "metadata": {},
   "source": [
    "<font color=\"#fcba03\">\n",
    "\n",
    "Q3. (10 分)接著進行多重比較(multiple comparisons)，說明 Bonferroni 方法如何確保整體顯著水準或整體型 I 錯誤機率不超過 α=5%? <br>\n",
    "Q3. (10 pts) Then, perform multiple comparisons to explain how the Bonferroni method ensures that the overall significance level or overall type I error rate does not exceed α=5%?\n",
    "\n",
    "</font>\n",
    "<font color=\"#039dfc\">\n",
    "\n",
    "### Ans: \n",
    "The overall type I error(Family-wise Error Rate, $FWER$) can be calculated by the individual type I errors between groups:\n",
    "$$  FWER = \\bigcup_{i=1}^{C^k_2}\\mathbb{P}(p\\leq\\alpha') $$\n",
    "where $\\alpha'$ is the type I error of individual type I error between any two groups\n",
    "\n",
    "The Bonferroni method sets the $\\alpha'$ as $\\frac{\\alpha}{C^k_2}$ , which make $FWER \\leq \\alpha$ , which can be proved below:\n",
    "\n",
    "By **Boole's inequality** \n",
    "$$  FWER = \\bigcup_{i=1}^{C^k_2}\\mathbb{P}(p\\leq\\alpha') \\leq \\sum_{i=1}^{C^k_2}\\mathbb{P}(p\\leq\\alpha') = \\frac{\\mathbb{P}(p\\leq\\alpha)}{C^k_2} \\times C^k_2 = \\frac{\\alpha}{C^k_2} \\times {C^k_2} = \\alpha$$\n",
    "$$\\Rightarrow FWER \\leq \\alpha $$\n",
    "\n",
    "In this case, by setting $\\alpha' = \\frac{0.05}{C^k_2} = 0.0833$, we can ensure the overall type I error $\\alpha\\leq0.05$\n",
    "</font>"
   ]
  },
  {
   "cell_type": "markdown",
   "id": "75b8dcff",
   "metadata": {},
   "source": [
    "<font color=\"#fcba03\">\n",
    "\n",
    "Q4. (30 分)若 $\\bar{X_1}$=170, $\\bar{X_2}$=165, $\\bar{X_3}$=178, $\\bar{X_4}$=185,，皆為身高平均。1,2,3,4 組 分別為某非洲國家東、西、南、北區域的男性抽樣群組。1,2,3,4 組的 身高標準差分別為 11.5, 15.8, 18.6, 12.2，請依據這些數據完成 ANOVA table。 <br>\n",
    "Q4. (30 pts) If $\\bar{X_1}$=170, $\\bar{X_2}$=165, $\\bar{X_3}$=178, $\\bar{X_4}$=185, all are the average height. Groups 1, 2, 3, and 4 are male sample groups in the east, west, south, and north regions of an African country, respectively. The standard deviations of the heights of groups 1, 2, 3, and 4 are 11.5, 15.8, 18.6, and 12.2, respectively. Please complete the ANOVA table based on these data.\n",
    "\n",
    "\n",
    "</font>\n",
    "\n",
    "<font color=\"#039dfc\">\n",
    "\n",
    "### Ans: \n",
    "R code provided below\n",
    "\n",
    "</font>\n"
   ]
  },
  {
   "cell_type": "code",
   "execution_count": 2,
   "id": "06da5a66",
   "metadata": {
    "vscode": {
     "languageId": "r"
    }
   },
   "outputs": [
    {
     "name": "stderr",
     "output_type": "stream",
     "text": [
      "Loading required package: gtools\n",
      "\n"
     ]
    },
    {
     "data": {
      "text/html": [
       "<table class=\"dataframe\">\n",
       "<caption>A anova: 3 × 4</caption>\n",
       "<thead>\n",
       "\t<tr><th></th><th scope=col>SS</th><th scope=col>df</th><th scope=col>MS</th><th scope=col>F</th></tr>\n",
       "\t<tr><th></th><th scope=col>&lt;dbl&gt;</th><th scope=col>&lt;dbl&gt;</th><th scope=col>&lt;dbl&gt;</th><th scope=col>&lt;dbl&gt;</th></tr>\n",
       "</thead>\n",
       "<tbody>\n",
       "\t<tr><th scope=row>Between (A)</th><td> 2796.457</td><td> 3</td><td>932.152</td><td>4.258</td></tr>\n",
       "\t<tr><th scope=row>Within</th><td> 9194.080</td><td>42</td><td>218.907</td><td>   NA</td></tr>\n",
       "\t<tr><th scope=row>Total</th><td>11990.537</td><td>45</td><td>     NA</td><td>   NA</td></tr>\n",
       "</tbody>\n",
       "</table>\n"
      ],
      "text/latex": [
       "A anova: 3 × 4\n",
       "\\begin{tabular}{r|llll}\n",
       "  & SS & df & MS & F\\\\\n",
       "  & <dbl> & <dbl> & <dbl> & <dbl>\\\\\n",
       "\\hline\n",
       "\tBetween (A) &  2796.457 &  3 & 932.152 & 4.258\\\\\n",
       "\tWithin &  9194.080 & 42 & 218.907 &    NA\\\\\n",
       "\tTotal & 11990.537 & 45 &      NA &    NA\\\\\n",
       "\\end{tabular}\n"
      ],
      "text/markdown": [
       "\n",
       "A anova: 3 × 4\n",
       "\n",
       "| <!--/--> | SS &lt;dbl&gt; | df &lt;dbl&gt; | MS &lt;dbl&gt; | F &lt;dbl&gt; |\n",
       "|---|---|---|---|---|\n",
       "| Between (A) |  2796.457 |  3 | 932.152 | 4.258 |\n",
       "| Within |  9194.080 | 42 | 218.907 |    NA |\n",
       "| Total | 11990.537 | 45 |      NA |    NA |\n",
       "\n"
      ],
      "text/plain": [
       "            SS        df MS      F    \n",
       "Between (A)  2796.457  3 932.152 4.258\n",
       "Within       9194.080 42 218.907    NA\n",
       "Total       11990.537 45      NA    NA"
      ]
     },
     "metadata": {},
     "output_type": "display_data"
    }
   ],
   "source": [
    "# https://stackoverflow.com/questions/26170002/anova-in-r-using-summary-data\n",
    "\n",
    "# package \"rpsychi\" is archived, \n",
    "# and can be downloaded at https://cran.r-project.org/src/contrib/Archive/rpsychi/\n",
    "\n",
    "# install.packages(\"gtools\")\n",
    "# install.packages(\"https://cran.r-project.org/src/contrib/Archive/rpsychi/rpsychi_0.8.tar.gz\". repos=NULL)\n",
    "\n",
    "library(rpsychi)\n",
    "\n",
    "data.n <- c(9, 10, 12, 15)\n",
    "data.mean <- c(170, 165, 178, 185)\n",
    "data.sd <- c(11.5, 15.8, 18.6, 12.2)\n",
    "ind.oneway.second(data.mean,data.sd,data.n, sig.level=0.05/6)$anova.table # sig level is adjusted using bonferonni"
   ]
  },
  {
   "cell_type": "code",
   "execution_count": 3,
   "id": "d43c7e2a",
   "metadata": {
    "vscode": {
     "languageId": "r"
    }
   },
   "outputs": [
    {
     "data": {
      "text/html": [
       "0.0102972794579478"
      ],
      "text/latex": [
       "0.0102972794579478"
      ],
      "text/markdown": [
       "0.0102972794579478"
      ],
      "text/plain": [
       "[1] 0.01029728"
      ]
     },
     "metadata": {},
     "output_type": "display_data"
    }
   ],
   "source": [
    "pf(4.258, 3, 42, lower.tail = FALSE)"
   ]
  },
  {
   "cell_type": "markdown",
   "id": "d7115a0e",
   "metadata": {},
   "source": [
    "<font color=\"#039dfc\">\n",
    "\n",
    "from the reuslts above, we can construct the table below\n",
    "\n",
    "|        |  SS      |   df |  MS   |   F   |  p   |\n",
    "|--------|----------|------|-------|-------|------|\n",
    "|Between |2796.457  |    3 |932.152|4.258  |0.0103|\n",
    "|Within  |9194.080  |   42 |218.907|       |      |\n",
    "|Total   |11990.537 |   45 |       |       |      |\n",
    "\n",
    "</font>"
   ]
  },
  {
   "cell_type": "markdown",
   "id": "e6df6ca1",
   "metadata": {},
   "source": [
    "<font color=\"#fcba03\">\n",
    "\n",
    "Q5.\t(10分)承第4題，請根據ANOVA table做出統計判斷，並解釋此統計結果。<br>\n",
    "Q5.\t(10 pts) Following question 4, please make statistical judgments based on the ANOVA table and explain the statistical results.\n",
    "\n",
    "</font>\n",
    "\n",
    "<font color=\"#039dfc\">\n",
    "\n",
    "### Ans: \n",
    "With $ p = 0.0103 < 0.05 $, we reject the null hypothesis.\n",
    "\n",
    "</font>"
   ]
  },
  {
   "cell_type": "markdown",
   "id": "8de7254d",
   "metadata": {},
   "source": [
    "<font color=\"#fcba03\">\n",
    "\n",
    "Q6.\t(30 分)承第 5 題，請判斷是否需要進行事後比較，若需要，請依照Bonferroni 方法進行統計計算，並判斷是哪一些組別存在統計顯著差異。(用手算請提供完整計算過程，用 R 程式請提供可驗算的 code 並陳述結果) <br>\n",
    "Q6. (30 pts) Continuing from question 5, please determine whether post-hoc comparison is necessary, and if necessary, perform statistical calculations according to the Bonferroni method, and determine which groups have\n",
    "statistically significant differences. (If you calculate by hand, please provide the complete calculation process, and if you use R program, please provide the code that can be checked and state the result)\n",
    "\n",
    "</font>\n",
    "\n",
    "<font color=\"#039dfc\">\n",
    "\n",
    "### Ans: \n",
    "Since we have rejected the null hypothesis, post-hoc comparison is required to reduce type I error.\n",
    "\n",
    "In this case, we use Bonferroni method to achieve this using the following code:\n",
    "\n",
    "</font>"
   ]
  },
  {
   "cell_type": "code",
   "execution_count": 4,
   "id": "daae67db",
   "metadata": {
    "vscode": {
     "languageId": "r"
    }
   },
   "outputs": [
    {
     "data": {
      "text/html": [
       "<table class=\"dataframe\">\n",
       "<caption>A data.frame: 6 × 4</caption>\n",
       "<thead>\n",
       "\t<tr><th></th><th scope=col>mean.diff</th><th scope=col>lower</th><th scope=col>upper</th><th scope=col>std</th></tr>\n",
       "\t<tr><th></th><th scope=col>&lt;dbl&gt;</th><th scope=col>&lt;dbl&gt;</th><th scope=col>&lt;dbl&gt;</th><th scope=col>&lt;dbl&gt;</th></tr>\n",
       "</thead>\n",
       "<tbody>\n",
       "\t<tr><th scope=row>1-2</th><td>  5</td><td>-13.824</td><td>23.824</td><td>6.798</td></tr>\n",
       "\t<tr><th scope=row>1-3</th><td> -8</td><td>-26.066</td><td>10.066</td><td>6.524</td></tr>\n",
       "\t<tr><th scope=row>1-4</th><td>-15</td><td>-32.274</td><td> 2.274</td><td>6.238</td></tr>\n",
       "\t<tr><th scope=row>2-3</th><td>-13</td><td>-30.542</td><td> 4.542</td><td>6.335</td></tr>\n",
       "\t<tr><th scope=row>2-4</th><td>-20</td><td>-36.726</td><td>-3.274</td><td>6.040</td></tr>\n",
       "\t<tr><th scope=row>3-4</th><td> -7</td><td>-22.867</td><td> 8.867</td><td>5.730</td></tr>\n",
       "</tbody>\n",
       "</table>\n"
      ],
      "text/latex": [
       "A data.frame: 6 × 4\n",
       "\\begin{tabular}{r|llll}\n",
       "  & mean.diff & lower & upper & std\\\\\n",
       "  & <dbl> & <dbl> & <dbl> & <dbl>\\\\\n",
       "\\hline\n",
       "\t1-2 &   5 & -13.824 & 23.824 & 6.798\\\\\n",
       "\t1-3 &  -8 & -26.066 & 10.066 & 6.524\\\\\n",
       "\t1-4 & -15 & -32.274 &  2.274 & 6.238\\\\\n",
       "\t2-3 & -13 & -30.542 &  4.542 & 6.335\\\\\n",
       "\t2-4 & -20 & -36.726 & -3.274 & 6.040\\\\\n",
       "\t3-4 &  -7 & -22.867 &  8.867 & 5.730\\\\\n",
       "\\end{tabular}\n"
      ],
      "text/markdown": [
       "\n",
       "A data.frame: 6 × 4\n",
       "\n",
       "| <!--/--> | mean.diff &lt;dbl&gt; | lower &lt;dbl&gt; | upper &lt;dbl&gt; | std &lt;dbl&gt; |\n",
       "|---|---|---|---|---|\n",
       "| 1-2 |   5 | -13.824 | 23.824 | 6.798 |\n",
       "| 1-3 |  -8 | -26.066 | 10.066 | 6.524 |\n",
       "| 1-4 | -15 | -32.274 |  2.274 | 6.238 |\n",
       "| 2-3 | -13 | -30.542 |  4.542 | 6.335 |\n",
       "| 2-4 | -20 | -36.726 | -3.274 | 6.040 |\n",
       "| 3-4 |  -7 | -22.867 |  8.867 | 5.730 |\n",
       "\n"
      ],
      "text/plain": [
       "    mean.diff lower   upper  std  \n",
       "1-2   5       -13.824 23.824 6.798\n",
       "1-3  -8       -26.066 10.066 6.524\n",
       "1-4 -15       -32.274  2.274 6.238\n",
       "2-3 -13       -30.542  4.542 6.335\n",
       "2-4 -20       -36.726 -3.274 6.040\n",
       "3-4  -7       -22.867  8.867 5.730"
      ]
     },
     "metadata": {},
     "output_type": "display_data"
    }
   ],
   "source": [
    "ind.oneway.second(data.mean,data.sd,data.n, sig.level=0.05/6)$raw.contrasts"
   ]
  },
  {
   "cell_type": "markdown",
   "id": "e0dfdc5f",
   "metadata": {},
   "source": [
    "<font color=\"#039dfc\">\n",
    "\n",
    "From the table above, we can discover that only the confidence interval of 2-4 does not contain 0, which means we can only reject the null hypothesis between group 2 and group 4. <br>\n",
    "This result tells us that there is significant difference only between groups 2 and 4.\n",
    "\n",
    "</font>"
   ]
  },
  {
   "cell_type": "markdown",
   "id": "8d1f06bf",
   "metadata": {},
   "source": [
    "code provided at: https://github.com/lusteven901228/2023_biostatistics/blob/main/HW4/hw4.ipynb"
   ]
  }
 ],
 "metadata": {
  "kernelspec": {
   "display_name": "R",
   "language": "R",
   "name": "ir"
  },
  "language_info": {
   "codemirror_mode": "r",
   "file_extension": ".r",
   "mimetype": "text/x-r-source",
   "name": "R",
   "pygments_lexer": "r",
   "version": "4.1.2"
  }
 },
 "nbformat": 4,
 "nbformat_minor": 5
}
