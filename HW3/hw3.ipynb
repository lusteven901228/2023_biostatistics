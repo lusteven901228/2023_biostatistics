{
 "cells": [
  {
   "cell_type": "markdown",
   "metadata": {},
   "source": [
    "## 生物統計與流行病學 作業三\n",
    "\n",
    "B10401019 呂祐寬\n",
    "\n",
    "kernel: python 3.10.6"
   ]
  },
  {
   "cell_type": "code",
   "execution_count": 1,
   "metadata": {},
   "outputs": [],
   "source": [
    "import numpy as np\n",
    "from scipy.stats import t"
   ]
  },
  {
   "cell_type": "markdown",
   "metadata": {},
   "source": [
    "### 第一大題(共60分)：每小題10分。\n",
    "### First Part (60 points): 10 points for each.\n",
    "\n",
    "身體質量指數(BMI)($\\mathrm{kg/m^2}$)是定義成人健康體位之指標，目前國內定義健康體位之成人的平均 BMI 數值介於18.5至24 $\\mathrm{kg/m^2}$之間。某實習醫師想要了解國內40-60歲的成年男性糖尿病病人是否偏向過重體位，換言之，是否有較高 BMI 的趨勢？為了探討這個議題，該實習醫師利用醫院自建的檔案，隨機抽取國內100位 40-60 歲男性糖尿病人，擷取其身高與體重資訊，得到樣本平均 BMI 數值為 28 $\\mathrm{kg/m^2}$，樣本標準差為 10 $\\mathrm{kg/m^2}$。\n",
    "\n",
    "Body mass index (BMI) ($\\mathrm{kg/m^2}$) is an index to define a healthy body weight for adults. Currently, the average BMI value of adults who define a healthy body weight in Taiwan is between 18.5 and 24 $\\mathrm{kg/m^2}$. An intern wants to know whether adult male diabetic patients aged 40-60 in China tend to be overweight, in other words, whether there is a trend of higher BMI? In order to investigate this issue, the intern used the hospital's self-built files to randomly select 100 domestic male diabetic patients aged 40-60, and extracted their height and weight information. The average BMI value of the sample was 28 $\\mathrm{kg/m^2}$, and the sample standard deviation was 10 $\\mathrm{kg/m^2}$."
   ]
  },
  {
   "cell_type": "markdown",
   "metadata": {},
   "source": [
    "<font color=\"#fcba03\">\n",
    "\n",
    "Q1. 請根據此情境設立虛無假設與對立假設。<br>\n",
    "Q1. Please construct null hypothesis and alternative hypothesis according to this essay.\n",
    "\n",
    "</font>\n",
    "\n",
    "<font color=\"#039dfc\">\n",
    "\n",
    "### Ans\n",
    "$H_0$:The average BMI of adult male diabetic patients aged 40-60 is in or lower than the healthy BMI range (18.5-24 $\\mathrm{kg/m^2}$ ), $\\mu<=24$.<br>\n",
    "$H_1$:The average BMI of adult male diabetic patients aged 40-60 is higher than the healthy BMI range (18.5-24 $\\mathrm{kg/m^2}$ ), $\\mu>24$\n",
    "\n",
    "</font>"
   ]
  },
  {
   "cell_type": "markdown",
   "metadata": {},
   "source": [
    "<font color=\"#fcba03\">\n",
    "\n",
    "Q2. 請回答此情境所需要計算的檢定統計量及自由度。<br >\n",
    "Q2. What the test statistics and degrees of freedom needed to be calculated in this essay?\n",
    "\n",
    "</font>\n",
    "\n",
    "<font color=\"#039dfc\">\n",
    "\n",
    "### Ans\n",
    "Since we are performing a student-t test, we need:<br><br> **t value** <br><br>\n",
    "$ dof = \\mathrm{sample size} -1 = 100-1 = 99 $\n",
    "\n",
    "</font>"
   ]
  },
  {
   "cell_type": "markdown",
   "metadata": {},
   "source": [
    "<font color=\"#fcba03\">\n",
    "\n",
    "Q3. 請計算檢定統計量。<br>\n",
    "Q3. Evaluate the testing statistic.\n",
    "\n",
    "</font>\n",
    "\n",
    "<font color=\"#039dfc\">\n",
    "\n",
    "### Ans\n",
    "$$ t = \\frac{\\bar{X}-\\mu}{s/\\sqrt{n}}\n",
    "    = \\frac{28-24}{10/\\sqrt{100}}\n",
    "    = \\frac{4}{1}\n",
    "    = 4\n",
    "    $$\n",
    "\n",
    "\n",
    "</font>"
   ]
  },
  {
   "cell_type": "markdown",
   "metadata": {},
   "source": [
    "<font color=\"#fcba03\">\n",
    "\n",
    "Q4. 請自行查表(講義P.19)並給出P值，並做出統計判斷。<br>\n",
    "Q4. Please look up the table by yourself (handout P.19) and give the P value, and make a statistical conclusion.\n",
    "\n",
    "</font>\n",
    "\n",
    "<font color=\"#039dfc\">\n",
    "\n",
    "### Ans\n",
    "We need P with $t = 4$ and $dof = 99$, which is not on the table.<br>\n",
    "Thus, I used scipy for calculation\n",
    "\n",
    "</font>"
   ]
  },
  {
   "cell_type": "code",
   "execution_count": 2,
   "metadata": {},
   "outputs": [
    {
     "name": "stdout",
     "output_type": "stream",
     "text": [
      "p_value = 6.11E-05\n"
     ]
    }
   ],
   "source": [
    "t_value = 4\n",
    "dof = 99\n",
    "p_value = 1 - t.cdf(np.abs(t_value), dof)\n",
    "\n",
    "print(f'{p_value = :.2E}')"
   ]
  },
  {
   "cell_type": "markdown",
   "metadata": {},
   "source": [
    "<font color=\"#039dfc\">\n",
    "\n",
    "And we get the p value = $6.11\\times10^{-5}$\n",
    "\n",
    "</font>"
   ]
  },
  {
   "cell_type": "markdown",
   "metadata": {},
   "source": [
    "<font color=\"#fcba03\">\n",
    "\n",
    "Q5. 請計算信賴區間，並解釋該區間。<br>\n",
    "Q5. Evaluate the confidence interval, and interpret the meaning of this interval.\n",
    "\n",
    "</font>\n",
    "\n",
    "<font color=\"#039dfc\">\n",
    "\n",
    "#### Disclaimer\n",
    "I don't know what confidence interval to calculate since the question didn't point out<br>\n",
    "I assume the question wants me to calculate the one-tail t-test critical value using $\\alpha = 0.05$.\n",
    "\n",
    "### Ans\n",
    "The critical t value for $\\alpha = 0.05$ under $df=99$ can be calculated using scipy below.\n",
    "\n",
    "The lower bound is calculated by $\\bar{X} + (t_{0.05}\\times\\frac{s}{\\sqrt{n}})$, whose calculation will also be performed below.\n",
    "\n",
    "\n",
    "</font>\n",
    "\n"
   ]
  },
  {
   "cell_type": "code",
   "execution_count": 3,
   "metadata": {},
   "outputs": [
    {
     "name": "stdout",
     "output_type": "stream",
     "text": [
      "CI = [26.340, ∞)\n"
     ]
    }
   ],
   "source": [
    "X_bar = 28\n",
    "s = 10\n",
    "n = 100\n",
    "t_05 = t.ppf(.05, 99)  # period is not allowed in variable names\n",
    "\n",
    "lower_bound = X_bar + t_05*s/np.sqrt(n)\n",
    "\n",
    "print(f'CI = [{lower_bound:.3f}, ∞)')"
   ]
  },
  {
   "cell_type": "markdown",
   "metadata": {},
   "source": [
    "<font color=\"#039dfc\">\n",
    "\n",
    "which gives us the $\\mathrm{CI}_{\\alpha=0.05}$ = $[26.340, \\infty)$\n",
    "\n",
    "The confidence interval indicates that while performing the exact same sampling, the probability that the true mean lies in this area is $1-0.05=0.95$, i.e, upon doing infinity times of the exact same sampling, 95% of the confidence intervals will include the true mean.\n",
    "\n",
    "With the CI of $[26.340, \\infty)$ , we reject the null hypothesis since the lower bound is higher than 24, which indicates that our statistic result tells that the mean of BMI is higher than normal. \n",
    "\n",
    "</font>"
   ]
  },
  {
   "cell_type": "markdown",
   "metadata": {},
   "source": [
    "<font color=\"#fcba03\">\n",
    "\n",
    "Q6. 若顯著水準設為0.01，則檢定的結論是否不同？ <br>\n",
    "Q6. If the significance level (type I error) is set to 0.01, is the conclusion of the test different?\n",
    "\n",
    "</font>\n",
    "\n",
    "<font color=\"#039dfc\">\n",
    "\n",
    "### Ans\n",
    "No.\n",
    "Previously, the significance level was set to 0.05(I assume), which results a rejection of the null hypothesis.\n",
    "If we change the significance level, the p value of this sampling ($6.11\\times10^{-5}$) is still smaller than the significance level($0.01$), which doesn't change the result.\n",
    "\n",
    "</font>\n"
   ]
  },
  {
   "cell_type": "code",
   "execution_count": 4,
   "metadata": {},
   "outputs": [],
   "source": [
    "%reset -f\n",
    "import numpy as np\n",
    "from scipy.stats import t"
   ]
  },
  {
   "cell_type": "markdown",
   "metadata": {},
   "source": [
    "### 第二大題(共40分)：每小題10分。\n",
    "### The second major question (40 points in total): 10 points for each\n",
    "因為隨機分派是使兩組間除了治療方式不同外，兩組在試驗前的基礎特質應很相近。LIPID study 是Randomized control trial，以隨機分派之方法將病人分成使用降膽固醇藥物之治療組（共 4512 位）與使用安慰劑之對照組（共 4502 位），若治療組與對照組之三酸甘油脂（TG）的樣本平均值、樣本標準差分別為 142、46 與 138、41。研究團隊想知道治療組與對照組之兩組病人在受試前之TG值有無差異？請問:\n",
    "\n",
    "\n",
    "As random assignment is used to make the baseline characteristics of the two groups similar before the trial, except for the different treatment methods. The LIPID study is a randomized controlled trial that uses random assignment to divide patients into a treatment group (total of 4512 people) that uses cholesterol-lowering drugs and a control group (total of 4502 people) that uses a placebo. If the sample means and standard deviation of triglycerides (TG) in the treatment group and the control group are 142 and 46, and 138 and 41, respectively. The research team wants to know if there is any difference between the two groups of patients' TG values before the trial. Please answer the following questions:"
   ]
  },
  {
   "cell_type": "markdown",
   "metadata": {},
   "source": [
    "<font color=\"#fcba03\">\n",
    "\n",
    "Q7. 請根據此情境設立虛無假設與對立假設。<br>\n",
    "Q7. State the null and alternative hypotheses based on the scenario.\n",
    "\n",
    "</font>\n",
    "\n",
    "<font color=\"#039dfc\">\n",
    "\n",
    "### Ans\n",
    "$H_0$: There is no difference in the mean TG levels between the treatment group and the control group before the trial. ($\\mu_1=\\mu_2$ or $\\mu_1-\\mu_2=0$) <br>\n",
    "$H_1$: There is a difference in the mean TG levels between the treatment group and the control group before the trial. ($\\mu_1\\neq\\mu_2$ or $\\mu_1-\\mu_2\\neq0$)\n",
    "\n",
    "</font>"
   ]
  },
  {
   "cell_type": "markdown",
   "metadata": {},
   "source": [
    "<font color=\"#fcba03\">\n",
    "\n",
    "Q8. 請回答此情境所需要計算的檢定統計量及自由度。<br>\n",
    "Q8. State the appropriate test statistic and degrees of freedom.\n",
    "\n",
    "</font>\n",
    "\n",
    "<font color=\"#039dfc\">\n",
    "\n",
    "### Ans\n",
    "We will be using the two sample t test, which requires the **t value** as the test statistic.\n",
    "\n",
    "The degree of freedom can be calculated using the following formula:\n",
    "$$ n_1 +  n_2 - 2$$\n",
    "\n",
    "</font>"
   ]
  },
  {
   "cell_type": "code",
   "execution_count": 5,
   "metadata": {},
   "outputs": [
    {
     "name": "stdout",
     "output_type": "stream",
     "text": [
      "dof = 9012\n"
     ]
    }
   ],
   "source": [
    "n_1 = 4512\n",
    "n_2 = 4502\n",
    "\n",
    "dof = n_1 + n_2 - 2\n",
    "\n",
    "print(f'{dof = }')"
   ]
  },
  {
   "cell_type": "markdown",
   "metadata": {},
   "source": [
    "<font color=\"#039dfc\">\n",
    "\n",
    "$dof = 9012$\n",
    "\n",
    "</font>"
   ]
  },
  {
   "cell_type": "markdown",
   "metadata": {},
   "source": [
    "<font color=\"#fcba03\">\n",
    "\n",
    "Q9. 請計算檢定統計量。<br>\n",
    "Q9. Calculate the test statistic.\n",
    "\n",
    "</font>\n",
    "\n",
    "<font color=\"#039dfc\">\n",
    "\n",
    "### Ans\n",
    "\n",
    "First, assuming the two groups have a equal variance, we can calculate the variance of the pooled data.\n",
    "\n",
    "$$ s_{pooled}^2 = \\frac{(n_1-1)s_1^2 + (n_2-1)s_2^2}{(n_1-1)+(n_2-1)}$$\n",
    "\n",
    "</font>"
   ]
  },
  {
   "cell_type": "code",
   "execution_count": 6,
   "metadata": {},
   "outputs": [
    {
     "name": "stdout",
     "output_type": "stream",
     "text": [
      "var_pooled = 43.5028\n"
     ]
    }
   ],
   "source": [
    "var_1 = 46\n",
    "var_2 = 41\n",
    "\n",
    "var_pooled = ((n_1-1) * var_1 + (n_2-1) * var_2) / ((n_1-1) + (n_2-1))\n",
    "\n",
    "print(f'{var_pooled = :.4f}')"
   ]
  },
  {
   "cell_type": "markdown",
   "metadata": {},
   "source": [
    "<font color=\"#039dfc\">\n",
    "\n",
    "With the variance of the pooled data $s_{pooled}^2=43.5028$, we can then calculate the standard error of the data.\n",
    "$$se = s_{pooled}^2 \\sqrt{\\frac{1}{n_1} + \\frac{1}{n_2}}$$\n",
    "\n",
    "</font>"
   ]
  },
  {
   "cell_type": "code",
   "execution_count": 7,
   "metadata": {},
   "outputs": [
    {
     "name": "stdout",
     "output_type": "stream",
     "text": [
      "se = 0.9164\n"
     ]
    }
   ],
   "source": [
    "se = var_pooled * np.sqrt(1/n_1 + 1/n_2)\n",
    "\n",
    "print(f'{se = :.4f}')"
   ]
  },
  {
   "cell_type": "markdown",
   "metadata": {},
   "source": [
    "<font color=\"#039dfc\">\n",
    "\n",
    "With $se(\\bar{x_1} - \\bar{x_2})=0.9164$, we can finally calculate the T value of the hypothesis.\n",
    "$$ T = \\frac{(\\bar{x_1} - \\bar{x_2}) - (\\mu_1 - \\mu_2)}{se(\\bar{x_1} - \\bar{x_2})} $$\n",
    "where $\\mu_1 - \\mu_2 = 0$ since we are using the null hypothesis.\n",
    "\n",
    "</font>"
   ]
  },
  {
   "cell_type": "code",
   "execution_count": 8,
   "metadata": {},
   "outputs": [
    {
     "name": "stdout",
     "output_type": "stream",
     "text": [
      "T = 4.365\n"
     ]
    }
   ],
   "source": [
    "x_bar_1 = 142\n",
    "x_bar_2 = 138\n",
    "\n",
    "T = ((x_bar_1-x_bar_2))/se\n",
    "\n",
    "print(f'{T = :.3f}')"
   ]
  },
  {
   "cell_type": "markdown",
   "metadata": {},
   "source": [
    "<font color=\"#039dfc\">\n",
    "\n",
    "Then we can finally get $T = 4.365$\n",
    "\n",
    "</font>"
   ]
  },
  {
   "cell_type": "markdown",
   "metadata": {},
   "source": [
    "<font color=\"#fcba03\">\n",
    "\n",
    "Q10. 請計算信賴區間，並解釋該區間。<br>\n",
    "Q10. Calculate the confidence interval and interpret it. \n",
    "\n",
    "</font>\n",
    "\n",
    "<font color=\"#039dfc\">\n",
    "\n",
    "### Ans\n",
    "\n",
    "The Lower and Upper Confidence Intervals are calculated using the following formula:\n",
    "$$ Lower CI = \\bar(x_1) - \\bar(x_2) - t_{df=9012,0.025}se(\\bar{x_1} - \\bar{x_2})$$\n",
    "$$ Upper CI = \\bar(x_1) - \\bar(x_2) + t_{df=9012,0.025}se(\\bar{x_1} - \\bar{x_2})$$\n",
    "\n",
    "</font>"
   ]
  },
  {
   "cell_type": "code",
   "execution_count": 9,
   "metadata": {},
   "outputs": [
    {
     "name": "stdout",
     "output_type": "stream",
     "text": [
      "t_value = 1.9602\n",
      "CI = [2.2036, 5.7964]\n"
     ]
    }
   ],
   "source": [
    "t_value = np.abs(t.ppf(0.025, dof))\n",
    "\n",
    "print(f'{t_value = :.4f}')\n",
    "\n",
    "Lower_CI = x_bar_1 - x_bar_2 - t_value*se\n",
    "Upper_CI = x_bar_1 - x_bar_2 + t_value*se\n",
    "\n",
    "print(f'CI = [{Lower_CI:.4f}, {Upper_CI:.4f}]')"
   ]
  },
  {
   "cell_type": "markdown",
   "metadata": {},
   "source": [
    "<font color=\"#039dfc\">\n",
    "\n",
    "95% CI means that upon doing infinity times of the same sampling, 95% of the interavls will contain the true mean.\n",
    "    \n",
    "With CI = $[2.2036, 5.7964]$, we can see that 0 is not in CI, which results in a rejection of the null hypothesis.\n",
    "\n",
    "</font>"
   ]
  },
  {
   "cell_type": "markdown",
   "metadata": {},
   "source": [
    "### [jupyter notebook link](https://github.com/lusteven901228/2023_biostatistics/blob/main/HW3/hw3.ipynb)\n",
    "\n",
    "https://github.com/lusteven901228/2023_biostatistics/blob/main/HW3/hw3.ipynb"
   ]
  }
 ],
 "metadata": {
  "kernelspec": {
   "display_name": "Python 3 (ipykernel)",
   "language": "python",
   "name": "python3"
  },
  "language_info": {
   "codemirror_mode": {
    "name": "ipython",
    "version": 3
   },
   "file_extension": ".py",
   "mimetype": "text/x-python",
   "name": "python",
   "nbconvert_exporter": "python",
   "pygments_lexer": "ipython3",
   "version": "3.10.6"
  }
 },
 "nbformat": 4,
 "nbformat_minor": 2
}
