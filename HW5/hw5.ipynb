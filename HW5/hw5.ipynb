{
 "cells": [
  {
   "cell_type": "markdown",
   "metadata": {},
   "source": [
    "## 生物統計與流行病學 作業五\n",
    "## Biostatistics and Epidemiology HW5\n",
    "B10401019 呂祐寬\n"
   ]
  },
  {
   "cell_type": "markdown",
   "metadata": {},
   "source": [
    "### 第一大題(共40分)：每小題10分。\n",
    "### First Part (Total 40 points): 10 points each\n",
    "\n",
    "\n",
    "令 X 表示個體之抽菸狀態，即個體有抽菸則X=1，沒抽菸則X=0。G=1表示第1組，G=2表示第2組。這兩組共收集到20筆的抽菸狀態的個別資料，如下所列: <br>\n",
    "Let X represents for the smokers status of an individual, that is X=1 if the person smokes, and X=0 if the person does not. G=1 and G=2 stand for group 1 and group 2, respectively. The table below shows total 20 observations of the smokers status of individuals from two groups:\n",
    "\n",
    "| id | 1 | 2 | 3 | 4 | 5 | 6 | 7 | 8 | 9 | 10 | 1 | 2 | 3 | 4 | 5 | 6 | 7 | 8 | 9 | 10 |\n",
    "| -- | - | - | - | - | - | - | - | - | - | -- | - | - | - | - | - | - | - | - | - | -- |\n",
    "| G  | 1 | 1 | 1 | 1 | 1 | 1 | 1 | 1 | 1 | 1  | 2 | 2 | 2 | 2 | 2 | 2 | 2 | 2 | 2 | 2  |\n",
    "| X  | 1 | 1 | 0 | 1 | 0 | 1 | 1 | 1 | 1 | 1  | 0 | 1 | 1 | 1 | 0 | 0 | 0 | 1 | 0 | 0  |\n"
   ]
  },
  {
   "cell_type": "markdown",
   "metadata": {},
   "source": [
    "<font color=\"#fcba03\">\n",
    "\n",
    "Q1. 若G=1,2是兩組獨立樣本，G=1代表有得怪病Z、G=2代表沒有得怪病Z，即相同id但不同組別代表不同個體，則X則是觀察每組每個個體之抽菸狀態，請將資料整理成一個2x2 列聯表。 <br>\n",
    "Q1. If G=1 and G=2 are independent samples, G=1 stands for having disease Z and G=0 stands for not having disease Z, which means the same id from two different groups are not the same person. X is the smokers status of each individual. Please make a 2 by 2 contingency table using this dataset.\n",
    "\n",
    "\n",
    "</font>\n",
    "\n",
    "<font color=\"#039dfc\">\n",
    "\n",
    "### Ans\n",
    "By the R code below\n",
    "\n",
    "</font>"
   ]
  },
  {
   "cell_type": "code",
   "execution_count": 1,
   "metadata": {
    "vscode": {
     "languageId": "r"
    }
   },
   "outputs": [
    {
     "data": {
      "text/plain": [
       "      \n",
       "       non-smokers smokers\n",
       "  Z(-)           6       4\n",
       "  Z(+)           2       8"
      ]
     },
     "metadata": {},
     "output_type": "display_data"
    }
   ],
   "source": [
    "library(plyr) # chatGPT\n",
    "G_raw <- c(1, 1, 1, 1, 1, 1, 1, 1, 1, 1, 2, 2, 2, 2, 2, 2, 2, 2, 2, 2)\n",
    "G <- mapvalues(G_raw, c(1, 2), c(\"Z(+)\", \"Z(-)\"))\n",
    "X_raw <- c(1, 1, 0, 1, 0, 1, 1, 1, 1, 1, 0, 1, 1, 1, 0, 0, 0, 1, 0, 0)\n",
    "X <- mapvalues(X_raw, c(0, 1), c(\"non-smokers\", \"smokers\"))\n",
    "df1 <- data.frame(G, X)\n",
    "\n",
    "table1 <- table(df1$G, df1$X)\n",
    "table1"
   ]
  },
  {
   "cell_type": "markdown",
   "metadata": {},
   "source": [
    "<font color=\"#039dfc\">\n",
    "\n",
    "we can get the contingency table by calculating the sums of each row and column.\n",
    "\n",
    "|      | smokers | non-smokers | Total |\n",
    "| ---- | ------- | ----------- | ----- |\n",
    "| Z(+) | $8$     | $2$         | $10$  |\n",
    "| Z(-) | $4$     | $6$         | $10$  |\n",
    "|Total | $12$    | $8$         | $20$  |  \n",
    "\n",
    "</font>"
   ]
  },
  {
   "cell_type": "markdown",
   "metadata": {},
   "source": [
    "<font color=\"#fcba03\">\n",
    "\n",
    "Q2.\t根據列聯表估計抽菸得怪病Z的odds ratio。<br>\n",
    "Q2. Estimate the odds ratio for having disease Z from the contingency table.\n",
    "\n",
    "</font>\n",
    "\n",
    "<font color=\"#039dfc\">\n",
    "\n",
    "### Ans\n",
    "The odds ratio for smokers against having disease Z from the contingency table can be calculated using the contigency table above by:\n",
    " $$\\mathrm{Odds\\;ratio} = \\frac{8 \\times 6}{2 \\times 4}=6$$\n",
    "\n",
    "</font>"
   ]
  },
  {
   "cell_type": "markdown",
   "metadata": {},
   "source": [
    "<font color=\"#fcba03\">\n",
    "\n",
    "Q3.\t請根據抽菸對怪病Z是否存在相關性的統計問題，寫出合適的虛無和對立假說。 <br>\n",
    "Q3. Please write down the appropriate null hypothesis and alternative hypothesis, according to the statistical problem on whether the correlation exist between smokers and disease Z.\n",
    "\n",
    "\n",
    "</font>\n",
    "\n",
    "<font color=\"#039dfc\">\n",
    "\n",
    "### Ans\n",
    "$H_0$: There is no correlation between smokers and disease Z. (The observed correlation is due to chance) <br>\n",
    "$H_1$: There is a correlation between smokers and disease Z. (The observed correlation is not due to chance)\n",
    "\n",
    "</font>"
   ]
  },
  {
   "cell_type": "markdown",
   "metadata": {},
   "source": [
    "<font color=\"#fcba03\">\n",
    "\n",
    "Q4.\t請計算合適的檢定統計量並做出判斷。<br>\n",
    "Q4. Please calculate the appropriate test statistics and make decision\n",
    "\n",
    "</font>\n",
    "\n",
    "<font color=\"#039dfc\">\n",
    "\n",
    "### Ans\n",
    "Having the contingency table, we can conduct the $\\chi^2$ test\n",
    "\n",
    "</font>"
   ]
  },
  {
   "cell_type": "code",
   "execution_count": 2,
   "metadata": {
    "vscode": {
     "languageId": "r"
    }
   },
   "outputs": [
    {
     "name": "stderr",
     "output_type": "stream",
     "text": [
      "Warning message in chisq.test(table1):\n",
      "“Chi-squared approximation may be incorrect”\n"
     ]
    },
    {
     "data": {
      "text/plain": [
       "\n",
       "\tPearson's Chi-squared test with Yates' continuity correction\n",
       "\n",
       "data:  table1\n",
       "X-squared = 1.875, df = 1, p-value = 0.1709\n"
      ]
     },
     "metadata": {},
     "output_type": "display_data"
    }
   ],
   "source": [
    "chi_square1 <- chisq.test(table1)\n",
    "chi_square1\n",
    "\n"
   ]
  },
  {
   "cell_type": "markdown",
   "metadata": {},
   "source": [
    "<font color=\"#039dfc\">\n",
    "\n",
    "From the data, we get the p-value is $0.1709$ , which is larger than $0.05$. Thus, we are unable to reject the null hypothesis.\n",
    "\n",
    "\n",
    "However, upon getting the warning:\n",
    "```\n",
    "Warning message in chisq.test(table1):\n",
    "“Chi-squared approximation may be incorrect”\n",
    "```\n",
    "we seem to have a very small data, which results in the unsure detection of the null hypothesis.\n",
    "\n",
    "Therefore, since we are using R, I will also do the Fisher's exact test as well.\n",
    "\n",
    "</font>\n"
   ]
  },
  {
   "cell_type": "code",
   "execution_count": 3,
   "metadata": {
    "vscode": {
     "languageId": "r"
    }
   },
   "outputs": [
    {
     "data": {
      "text/plain": [
       "\n",
       "\tFisher's Exact Test for Count Data\n",
       "\n",
       "data:  table1\n",
       "p-value = 0.1698\n",
       "alternative hypothesis: true odds ratio is not equal to 1\n",
       "95 percent confidence interval:\n",
       "  0.6026805 79.8309210\n",
       "sample estimates:\n",
       "odds ratio \n",
       "  5.430473 \n"
      ]
     },
     "metadata": {},
     "output_type": "display_data"
    }
   ],
   "source": [
    "fisher_test1 <- fisher.test(table1)\n",
    "fisher_test1"
   ]
  },
  {
   "cell_type": "markdown",
   "metadata": {},
   "source": [
    "<font color=\"#039dfc\">\n",
    "\n",
    "The p-value is $0.1698$, which is also larger than $0.05$. Thus, the result is same as chi_square test, which indicates that we are not able to reject the null hypothesis.\n",
    "\n",
    "</font>"
   ]
  },
  {
   "cell_type": "markdown",
   "metadata": {},
   "source": [
    "### 第二大題(共30分)：每小題10分。\n",
    "### Second Part (Total 30 points): 10 points each\n",
    "\n",
    "一小型臨床研究欲測試新療法是否能有效增加病患對藥物之敏感度。受限於研究資源不多，僅能收集12名受試者進行測試。該研究為了克服樣本數的限制，採取crossover的設計，使12名受試者皆能測得新療法與傳統療法的藥物敏感度，並精巧的設計了適當的washout period降低藥物交互作用與干擾作用。其測試之反應程度如下表，請問新療法與傳統療法敏感度是否有顯著差異? (α=0.05) <br>\n",
    "A small-scale clinical research wanted to examine whether the new treatment could increase the patient’s sensitivities on drugs effectively or not. Limited to the research resources, it only collected 12 participants. To overcome the limitation of sample size, it adopted the crossover design, and all 12 participants could measure the sensitivities on both new treatment and tradition treatment. They delicately designed an appropriate washout period to reduce the interaction and confounding effect. The reactions of the examinations are listed in the table below. Is there significant difference in sensitivities between new treatment and the traditional treatment? (α=0.05)\n",
    "\n",
    "| ID                 | 1  | 2  | 3  | 4  | 5  | 6  | 7  | 8  | 9  | 10 | 11 | 12 |\n",
    "| ------------------ | -- | -- | -- | -- | -- | -- | -- | -- | -- | -- | -- | -- |\n",
    "| 新療法 (new)          | 74 | 61 | 73 | 66 | 48 | 45 | 75 | 57 | 71 | 72 | 69 | 80 |\n",
    "| 傳統療法 (traditional) | 64 | 79 | 67 | 62 | 88 | 67 | 82 | 43 | 70 | 68 | 77 | 63 |\n"
   ]
  },
  {
   "attachments": {},
   "cell_type": "markdown",
   "metadata": {},
   "source": [
    "<font color=\"#fcba03\">\n",
    "\n",
    "Q5.\t請根據提議設定虛無假設與對立假設 <br>\n",
    "Q5. Please state the null hypothesis and alternative hypothesis according to the question.\n",
    "\n",
    "</font>\n",
    "\n",
    "<font color=\"#039dfc\">\n",
    "\n",
    "$H_0$: There is no difference in medium of sensitivities between the new treatment and the traditional treatment. <br>\n",
    "$H_1$: There is difference in medium of sensitivities between the new treatment and the traditional treatment.\n",
    "\n",
    "</font>"
   ]
  },
  {
   "cell_type": "markdown",
   "metadata": {},
   "source": [
    "<font color=\"#fcba03\">\n",
    "\n",
    "Q6.\t請判斷此題合適的統計方法為何者？ <br>\n",
    "Q6. Please decide an appropriate statistical method for this problem.\n",
    "\n",
    "</font>\n",
    "\n",
    "<font color=\"#039dfc\">\n",
    "\n",
    "### Ans\n",
    "With a small dataset and no appearant outliers in the dataset (by eyeballing), I decide to use the **Wilcoxon Signed-Rank test** for its larger statistical power.\n",
    "\n",
    "\n",
    "\n",
    "</font>"
   ]
  },
  {
   "cell_type": "markdown",
   "metadata": {},
   "source": [
    "<font color=\"#fcba03\">\n",
    "\n",
    "Q7.\t計算檢定統計量並做出判斷 <br>\n",
    "Please calculate the test statistic and make judgement.\n",
    "\n",
    "\n",
    "</font>\n",
    "\n",
    "<font color=\"#039dfc\">\n",
    "\n",
    "### Ans\n",
    "\n",
    "\n",
    "</font>"
   ]
  },
  {
   "cell_type": "code",
   "execution_count": 4,
   "metadata": {
    "vscode": {
     "languageId": "r"
    }
   },
   "outputs": [
    {
     "name": "stderr",
     "output_type": "stream",
     "text": [
      "Warning message in wilcox.test.default(new_treatment, traditional_treatment, paired = TRUE, :\n",
      "“cannot compute exact p-value with ties”\n"
     ]
    },
    {
     "name": "stdout",
     "output_type": "stream",
     "text": [
      "\n",
      "\tWilcoxon signed rank test with continuity correction\n",
      "\n",
      "data:  new_treatment and traditional_treatment\n",
      "V = 34, p-value = 0.724\n",
      "alternative hypothesis: true location shift is not equal to 0\n",
      "\n"
     ]
    }
   ],
   "source": [
    "library(stats)\n",
    "\n",
    "new_treatment <- c(74, 61, 73, 66, 48, 45, 75, 57, 71, 72, 69, 80)\n",
    "traditional_treatment <- c(64, 79, 67, 62, 88, 67, 82, 43, 70, 68, 77, 63)\n",
    "\n",
    "wilcox_test2 <- wilcox.test(new_treatment, traditional_treatment, paired = TRUE, alternative = \"two.sided\", conf.level = 0.95)\n",
    "\n",
    "print(wilcox_test2)\n"
   ]
  },
  {
   "attachments": {},
   "cell_type": "markdown",
   "metadata": {},
   "source": [
    "<font color=\"#039dfc\">\n",
    "\n",
    "With the p-value of $0.724$, which is higher than the $\\alpha$ of $0.05$, we cannot reject the null hypothesis. Therefore we are not able to reject that the mediums are same.\n",
    "\n",
    "\n",
    "</font>"
   ]
  },
  {
   "cell_type": "markdown",
   "metadata": {},
   "source": [
    "### 第三大題(共30分)：每小題10分。\n",
    "### Third Part (Total 30 points): 10 points each\n",
    "\n",
    "某鄉鎮委託一名衛生所醫師調查當地兩個區域(A, B)地下水的大腸桿菌濃度。兩區域皆隨機選擇7處地下抽水幫浦抽查(每處抽水幫浦在不同時間抽查三次，並取其平均值作為該抽水幫浦的測量結果)，其大腸桿菌濃度(CFU/100mL)測量結果如下表所示。請問不同區域的地下水大腸桿菌濃度是否有顯著差異? (α=0.05) <br>\n",
    "A town appointed a doctor from health center to investigate the concentrations of Escherichia coli (E. coli) in groundwater of two areas (A, B). They randomly select 7 groundwater pumps for each area (check three times in different periods for each pump, and take average of the three observations as the measurement results). The measurements of the concentrations of E. coli (CFU/100mL) are shown below. Is there significant difference in the concentrations of E. coli between two areas? (α=0.05)\n",
    "\n",
    "| Area A | Area B |\n",
    "| ------ | ------ |\n",
    "| 4.66   | 4.10   |\n",
    "| 4.31   | 5.30   |\n",
    "| 4.81   | 5.23   |\n",
    "| 4.94   | 4.76   |\n",
    "| 4.12   | 5.29   |\n",
    "| 5.15   | 5.20   |\n",
    "| 5.25   | 4.25   |\n"
   ]
  },
  {
   "attachments": {},
   "cell_type": "markdown",
   "metadata": {},
   "source": [
    "<font color=\"#fcba03\">\n",
    "\n",
    "Q8.\t請根據提議設定虛無假設與對立假設 <br>\n",
    "Q8. Please state the null hypothesis and alternative hypothesis according to the question.\n",
    "\n",
    "\n",
    "\n",
    "</font>\n",
    "\n",
    "<font color=\"#039dfc\">\n",
    "\n",
    "### Ans\n",
    "$H_0$: There is no difference in the medium of concentrations of E. coli between Area A and B <br>\n",
    "$H_1$: There is a difference in the medium of concentrations of E. coli between Area A and B\n",
    "\n",
    "</font>"
   ]
  },
  {
   "attachments": {},
   "cell_type": "markdown",
   "metadata": {},
   "source": [
    "<font color=\"#fcba03\">\n",
    "\n",
    "Q9.\t請判斷此題合適的統計方法為何者？ <br>\n",
    "Q9. Please decide an appropriate statistical method for this problem.\n",
    "\n",
    "</font>\n",
    "\n",
    "<font color=\"#039dfc\">\n",
    "\n",
    "### Ans\n",
    "I decide to use the **Wilcoxon Signed-Rank test** for its larger statistical power and to fit the curriculum for this week.\n",
    "\n",
    "</font>"
   ]
  },
  {
   "attachments": {},
   "cell_type": "markdown",
   "metadata": {},
   "source": [
    "<font color=\"#fcba03\">\n",
    "\n",
    "Q10. 計算檢定統計量並做出判斷\n",
    "\n",
    "</font>\n",
    "\n",
    "<font color=\"#039dfc\">\n",
    "\n",
    "### Ans\n",
    "\n",
    "</font>"
   ]
  },
  {
   "cell_type": "code",
   "execution_count": 5,
   "metadata": {
    "vscode": {
     "languageId": "r"
    }
   },
   "outputs": [
    {
     "name": "stdout",
     "output_type": "stream",
     "text": [
      "\n",
      "\tWilcoxon rank sum exact test\n",
      "\n",
      "data:  area_a and area_b\n",
      "W = 19, p-value = 0.535\n",
      "alternative hypothesis: true location shift is not equal to 0\n",
      "\n"
     ]
    }
   ],
   "source": [
    "area_a <- c(4.66, 4.31, 4.81, 4.94, 4.12, 5.15, 5.25)\n",
    "area_b <- c(4.10, 5.30, 5.23, 4.76, 5.29, 5.20, 4.25)\n",
    "\n",
    "wilcox_test3 <- wilcox.test(area_a, area_b, alternative = \"two.sided\", conf.level = 0.95)\n",
    "\n",
    "print(wilcox_test3)\n"
   ]
  },
  {
   "attachments": {},
   "cell_type": "markdown",
   "metadata": {},
   "source": [
    "<font color=\"#039dfc\">\n",
    "\n",
    "Having a p-value of $0.535$, which is higher than the $\\alpha = 0.05$, we failed to reject the null hypothesis, which means that we are not able to neglect that the mediums of two groups are same.\n",
    "\n",
    "</font>"
   ]
  },
  {
   "cell_type": "markdown",
   "metadata": {},
   "source": [
    "code provided at https://github.com/lusteven901228/2023_biostatistics/blob/main/HW5/hw5.ipynb"
   ]
  }
 ],
 "metadata": {
  "kernelspec": {
   "display_name": "R",
   "language": "R",
   "name": "ir"
  },
  "language_info": {
   "codemirror_mode": "r",
   "file_extension": ".r",
   "mimetype": "text/x-r-source",
   "name": "R",
   "pygments_lexer": "r",
   "version": "4.1.2"
  }
 },
 "nbformat": 4,
 "nbformat_minor": 2
}
